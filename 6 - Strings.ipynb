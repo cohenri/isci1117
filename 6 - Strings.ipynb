{
 "cells": [
  {
   "cell_type": "markdown",
   "metadata": {},
   "source": [
    "# String Exercises"
   ]
  },
  {
   "cell_type": "code",
   "execution_count": null,
   "metadata": {},
   "outputs": [],
   "source": [
    "ind = 5\n",
    "my_str = 'abcdefghij'\n",
    "print(my_str[3])\n",
    "print(my_str[ind-7])"
   ]
  },
  {
   "cell_type": "code",
   "execution_count": null,
   "metadata": {},
   "outputs": [],
   "source": [
    "my_new_str = 'abcd'\n",
    "type(my_new_str)\n",
    "dir(my_new_str)"
   ]
  },
  {
   "cell_type": "markdown",
   "metadata": {},
   "source": [
    "1: Given a string of odd length greater 7, return a string made of the middle three chars of a given String\n",
    "For example: –\n",
    "\n",
    "getMiddleThreeChars(\"JhonDipPeta\") → \"Dip\"\n",
    "getMiddleThreeChars(\"Jasonay\") → \"son\"\n",
    "\n",
    "Expected Output:\n",
    "\n",
    "Original String is JhonDipPeta\n",
    "Middle three chars are Dip\n",
    "Original String is Jasonay\n",
    "Middle three chars are son\n"
   ]
  },
  {
   "cell_type": "code",
   "execution_count": null,
   "metadata": {},
   "outputs": [],
   "source": [
    "def getMiddleThreeChars(sampleStr):\n",
    "  middleIndex = int(len(sampleStr) /2)\n",
    "  print(\"Original String is\", sampleStr)\n",
    "  middleThree = sampleStr[middleIndex-1:middleIndex+2]\n",
    "  print(\"Middle three chars are\", middleThree)\n",
    "  \n",
    "getMiddleThreeChars(\"JhonDipPeta\")\n",
    "getMiddleThreeChars(\"Jasonay\")\n"
   ]
  },
  {
   "cell_type": "markdown",
   "metadata": {},
   "source": [
    "2: Given 2 strings, s1 and s2, create a new string by appending s2 in the middle of s1\n",
    "Expected Outcome:\n",
    "\n",
    "appendMiddle(\"Chrisdem\", IamNewString) → \"ChrIamNewStringisdem\"\n",
    "\n",
    "Expected Outcome:\n",
    "appendMiddle(\"Chrisdem\", IamNewString) → \"ChrIamNewStringisdem\"\n"
   ]
  },
  {
   "cell_type": "code",
   "execution_count": null,
   "metadata": {},
   "outputs": [],
   "source": [
    "def appendMiddle(s1, s2):\n",
    "  middleIndex = int(len(s1) /2)\n",
    "  print(\"Original Strings are\", s1, s2)\n",
    "  middleThree = s1[:middleIndex-1:]+ s2 +s1[middleIndex-1:]\n",
    "  print(\"After appending new string in middle\", middleThree)\n",
    "  \n",
    "appendMiddle(\"Chrisdem\", \"IamNewString\")\n"
   ]
  },
  {
   "cell_type": "markdown",
   "metadata": {},
   "source": [
    "3: Given 2 strings, s1, and s2 return a new string made of the first, middle and last char each input string\n",
    "\n",
    "Expected Outcome:\n",
    "mixString(\"America\", \"Japan\") = \"\"AJrpan\"\n"
   ]
  },
  {
   "cell_type": "code",
   "execution_count": null,
   "metadata": {},
   "outputs": [],
   "source": [
    "def mixString(s1, s2):\n",
    "  resultString = s1[:1] + s2[:1] + s1[int(len(s1) /2):int(len(s1) /2)+1] +s2[int(len(s2) /2):int(len(s2) /2)+1] +s1[len(s1)-1] + s2[len(s2)-1]\n",
    "  print(\"Mix String is \", resultString)\n",
    "  \n",
    "s1 = \"America\"\n",
    "s2 = \"Japan\"\n",
    "mixString(s1, s2)\n"
   ]
  },
  {
   "cell_type": "markdown",
   "metadata": {},
   "source": [
    "4: arrange String characters such that lowercase letters should come first\n",
    "Given input String of combination of the lower and upper case arrange characters in such a way that all lowercase letters should come first.\n",
    "\n",
    "Expected Output:\n",
    "input_String = PyNaTive\n",
    "\n",
    "arranging characters giving precedence to lowercase letters:\n",
    "yaivePNT\n"
   ]
  },
  {
   "cell_type": "code",
   "execution_count": null,
   "metadata": {},
   "outputs": [],
   "source": [
    "inputStr = \"PyNaTive\"\n",
    "# print(type(inputStr))\n",
    "words = inputStr.split()\n",
    "# print(type(words))\n",
    "lower = []\n",
    "upper = []\n",
    "for char in inputStr:\n",
    "    if char.islower():\n",
    "        lower.append(char)\n",
    "    else:\n",
    "        upper.append(char)\n",
    "sortedString = ''.join(lower + upper)\n",
    "print(\"\\n arranging characters giving precedence to lowercase letters:\")\n",
    "print(sortedString)"
   ]
  },
  {
   "cell_type": "markdown",
   "metadata": {},
   "source": [
    "5: Count all lower case, upper case, digits, and special symbols from a given string\n",
    "\n",
    "Expected Outcome:\n",
    "input_str = \"P@#yn26at^&i5ve\"\n",
    "\n",
    "Total counts of chars, digits,and symbols \n",
    "Chars = 8 \n",
    "Digits = 3 \n",
    "Symbol = 4\n"
   ]
  },
  {
   "cell_type": "code",
   "execution_count": null,
   "metadata": {
    "scrolled": true
   },
   "outputs": [],
   "source": [
    "def findDigitsCharsSymbols(inputString):\n",
    "  words = inputString.split()\n",
    "  charCount = 0\n",
    "  digitCount = 0\n",
    "  symbolCount = 0\n",
    "  for char in inputString:\n",
    "    if char.islower() or char.isupper():\n",
    "      charCount+=1\n",
    "    elif char.isnumeric():\n",
    "      digitCount+=1\n",
    "    else:\n",
    "      symbolCount+=1\n",
    "      \n",
    "  print(\"Chars = \", charCount, \"Digits = \", digitCount, \"Symbol = \", symbolCount)\n",
    "      \n",
    "inputString = \"P@#yn26at^&i5ve\"\n",
    "print(\"total counts of chars, digits,and symbols \\n\")\n",
    "\n",
    "findDigitsCharsSymbols(inputString)\n"
   ]
  },
  {
   "cell_type": "markdown",
   "metadata": {},
   "source": [
    "# HOLD for later class\n",
    " \n",
    " 6: Given two strings, s1 and s2, create a mixed String\n",
    "Note: create a third-string made of the first char of s1 then the last char of s2, Next, the second char of s1 and second last char of s2, and so on. Any leftover chars go at the end of the result.\n",
    "\n",
    "Expected Outcome:\n",
    "mixString(\"Abc\", \"Xyz\") = AzbycX\n"
   ]
  },
  {
   "cell_type": "code",
   "execution_count": null,
   "metadata": {},
   "outputs": [],
   "source": [
    "def mixString(s1, s2):\n",
    "  s2 = s2[::-1]\n",
    "  lengthS1 = len(s1)\n",
    "  lengthS2 = len(s2)\n",
    "  length  = lengthS1 if lengthS1 > lengthS2 else lengthS2 \n",
    "  resultString=\"\"\n",
    "  for i in range(length):\n",
    "    if(i < lengthS1):\n",
    "      resultString = resultString + s1[i]\n",
    "    if(i < lengthS2):\n",
    "      resultString = resultString + s2[i]\n",
    "    \n",
    "  print(resultString)\n",
    "  \n",
    "s1 = \"Abc\"\n",
    "s2 = \"Xyz\"\n",
    "mixString(s1, s2)\n"
   ]
  },
  {
   "cell_type": "markdown",
   "metadata": {},
   "source": [
    " 7: String characters balance Test\n",
    "We’ll say that a String s1 and s2 is balanced if all the chars in the string1 are there in s2. characters position doesn’t matter.\n",
    "\n",
    "For Example: –\n",
    "\n",
    "stringBalanceCheck(yn, Pynative) = True\n"
   ]
  },
  {
   "cell_type": "code",
   "execution_count": null,
   "metadata": {},
   "outputs": [],
   "source": [
    "def stringBalanceCheck(s1, s2):\n",
    "  flag = True\n",
    "  for char in s1:\n",
    "    if char in s2:\n",
    "      continue\n",
    "    else:\n",
    "      flag = False\n",
    "  return flag\n",
    "  \n",
    "s1 = \"yn\"\n",
    "s2 = \"Pynative\"\n",
    "flag = stringBalanceCheck(s1, s2)\n",
    "print(\"s1 and s2 are balanced\", flag)\n",
    "\n",
    "s1 = \"ynf\"\n",
    "s2 = \"Pynative\"\n",
    "flag = stringBalanceCheck(s1, s2)\n",
    "print(\"s1 and s2 are balanced\", flag)"
   ]
  },
  {
   "cell_type": "markdown",
   "metadata": {},
   "source": [
    "8: Find all occurrences of “USA” in given string ignoring the case\n",
    "\n",
    "Expected Outcome:\n",
    "input_str = \"Welcome to USA. usa awesome, isn't it?\"\n",
    "\n",
    "The USA count is: 2\n"
   ]
  },
  {
   "cell_type": "code",
   "execution_count": null,
   "metadata": {},
   "outputs": [],
   "source": [
    "inputString = \"Welcome to USA. usa awesome, isn't it?\"\n",
    "substring = \"USA\"\n",
    "tempString = inputString.lower()\n",
    "count = tempString.count(substring.lower())\n",
    "print(\"The USA count is:\", count)\n"
   ]
  },
  {
   "cell_type": "markdown",
   "metadata": {},
   "source": [
    "# Hold for later class\n",
    "\n",
    "9: Given a string, return the sum and average of the digits that appear in the string, ignoring all other characters\n",
    "\n",
    "For Example: –\n",
    "sumAndAverage(\"English = 78 Science = 83 Math = 68 History = 65\") = sum 294 Percentage is 73.5\n"
   ]
  },
  {
   "cell_type": "code",
   "execution_count": null,
   "metadata": {},
   "outputs": [],
   "source": [
    "import re\n",
    "\n",
    "inputStr = \"English = 78 Science = 83 Math = 68 History = 65\"\n",
    "markList = [int(num) for num in re.findall(r'\\b\\d+\\b', inputStr)]\n",
    "totalMarks = 0\n",
    "for mark in markList:\n",
    "  totalMarks+=mark\n",
    "\n",
    "percentage = totalMarks/len(markList)  \n",
    "print(\"Total Marks is:\", totalMarks, \"Percentage is \", percentage)\n"
   ]
  },
  {
   "cell_type": "markdown",
   "metadata": {},
   "source": [
    "# Hold for later class\n",
    "\n",
    "10: Given an input string, count occurrences of all characters within a string\n",
    "\n",
    "For Example:\n",
    "count(\"pynativepynvepynative\") = {'p': 3, 'y': 3, 'n': 3, 'a': 2, 't': 2, 'i': 2, 'v': 3, 'e': 3}\n"
   ]
  },
  {
   "cell_type": "code",
   "execution_count": null,
   "metadata": {},
   "outputs": [],
   "source": [
    "inputStr = \"pynativepynvepynative\"\n",
    "countDict = dict()\n",
    "for char in inputStr:\n",
    "  count = inputStr.count(char)\n",
    "  countDict[char]=count\n",
    "print(countDict)\n"
   ]
  }
 ],
 "metadata": {
  "kernelspec": {
   "display_name": "Python 3",
   "language": "python",
   "name": "python3"
  },
  "language_info": {
   "codemirror_mode": {
    "name": "ipython",
    "version": 3
   },
   "file_extension": ".py",
   "mimetype": "text/x-python",
   "name": "python",
   "nbconvert_exporter": "python",
   "pygments_lexer": "ipython3",
   "version": "3.8.0"
  }
 },
 "nbformat": 4,
 "nbformat_minor": 4
}
